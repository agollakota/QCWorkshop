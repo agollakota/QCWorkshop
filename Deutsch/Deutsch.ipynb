{
 "cells": [
  {
   "cell_type": "markdown",
   "metadata": {},
   "source": [
    "# Quantum computing program with ProjectQ \n",
    "\n",
    "ProjectQ is an open-source software framework for quantum computing started at ETH Zuric. It aims at providing tools which facilitate inventing, implementing, testing, debugging, and running quantum algorithms using either classical hardware or actual quantum devices.\n",
    "\n",
    "Main features: \n",
    "\n",
    "* Use Python as the high level language to write quantum programs\n",
    "* Use various hardware and software back-ends\n",
    "* FermiLib for solving quantum chemistry progmes (fermionic problems) on a quantum computer\n",
    "\n",
    "\n",
    "### Compiler Framework\n",
    "<img src=\"http://2017.projectq.ch/wordpress/wp-content/uploads/2017/03/compiler_overview.gif\">\n",
    "\n",
    "\n",
    "The compilation framework consists of a main compiler engine, which executes a user-defined sequence of compilation steps by sending the circuit through a chain of so-called compiler engines. Each compiler engine manipulates the circuit to, e.g., reduce the number of gates or quantum bits required to run the quantum program. Engines further down the stack become more back-end-specific and take care of the mapping of the logical circuit to the layout of the back-end.\n",
    "\n",
    "After the circuit has passed through all compiler engines, it gets sent to the back-end. The back-end may be actual quantum hardware, a simulator run on a classical computer, a circuit drawing engine, etc.\n",
    "\n",
    "### Back-ends\n",
    "After the circuit has passed through all compiler engines, it gets sent to the back-end. The back-end may be \n",
    "* actual quantum hardware (superconducting circuits, topological qubits, ion traps, spin qubits, and photonic qubits, etc); Current supported hardward (IBM Quantum Experience: IBM’s 5-qubit quantum computer.\n",
    "* simulator run on a classical computer; \n",
    "* circuit drawing engine. \n",
    "\n",
    "### References\n",
    "\n",
    "https://projectq.ch/\n",
    "\n",
    "https://arxiv.org/abs/1612.08091\n",
    "\n",
    "https://github.com/ProjectQ-Framework/ProjectQ"
   ]
  },
  {
   "cell_type": "markdown",
   "metadata": {},
   "source": [
    "## Contents of Tutorials\n",
    "\n",
    "* Fundamental gate operations\n",
    "    * NOT\n",
    "    * Hadamard \n",
    "    * CNOT\n",
    "* Quantum Random Number Generator\n",
    "\n",
    "* Bell state \n",
    "\n",
    "* Two-qubit Deutsch algorithm\n",
    "\n",
    "* Quantum Fourier Transformation (exercise)"
   ]
  },
  {
   "cell_type": "code",
   "execution_count": 69,
   "metadata": {},
   "outputs": [
    {
     "name": "stdout",
     "output_type": "stream",
     "text": [
      "(Note: This is the (slow) Python simulator.)\n"
     ]
    }
   ],
   "source": [
    "from __future__ import print_function\n",
    "#Importing projectQ gates\n",
    "from projectq import MainEngine\n",
    "from projectq.ops import H, NOT, CNOT, Measure #Z, CZ, Swap, T, ...etc\n",
    "import matplotlib.pylab as plt\n",
    "import numpy as np\n",
    "\n",
    "#use simulator engine \n",
    "eng = MainEngine()\n",
    "\n",
    "## To use IBM quantum experience backend. \n",
    "#from projectq.backends import IBMBackend\n",
    "#eng = MainEngine(IBMBackend(),\n",
    "#                 engine_list=projectq.setups.ibm.get_engine_list())\n",
    "#To use Quantum Experience, please register an account\n",
    "#    https://quantumexperience.ng.bluemix.net/qx/signup\n",
    "\n",
    "def print_wavefunction(qureg, nqubits, mask, opt='not'):\n",
    "  # print wavefunction\n",
    "    eng.flush()\n",
    "    #Make sure all previous commands have passed through the compilation chain.\n",
    "    print(\"   |Psi> = \", end='')\n",
    "    i=0\n",
    "    for s in range(2 ** nqubits):\n",
    "        bit_string = format(s, mask)\n",
    "        result=eng.backend.get_amplitude(bit_string, qureg)\n",
    "        if (opt.find('all')!=-1):\n",
    "            print(\"%.1f|%s> \" % (result.real,bit_string), end='')\n",
    "            if (s<2**nqubits-1):\n",
    "                print(\"+\", end='')\n",
    "        else:       \n",
    "            if (abs(result)!=0.0):\n",
    "                if i != 0 and result.real >0: print(\"+ \", end='')\n",
    "                if (result.imag==0):\n",
    "                    print(\"%.2f|%s> \" % (result.real,bit_string), end='')\n",
    "                elif (result.imag>0):\n",
    "                    print(\"(%.2f+%.2fi)|%s> \" % (result.real, result.imag,bit_string), end='')\n",
    "                else:\n",
    "                    print(\"(%.2f%.2fi)|%s> \" % (result.real, result.imag,bit_string), end='')\n",
    "\n",
    "                i=i+1\n",
    "    print()\n",
    "    return\n",
    "\n",
    "def measure_qubits(qureg):\n",
    "    Measure | qureg\n",
    "    eng.flush()\n",
    "    i=0\n",
    "    try:\n",
    "        for q in qureg:\n",
    "            print(\"   Measured Q{}: |{}>\".format(i, int(q)))### multiple qubit case\n",
    "            i=i+1\n",
    "    except:\n",
    "        print(\"   Measured: |{}>\".format(int(qureg))) ### single qubit\n",
    "    return "
   ]
  },
  {
   "cell_type": "markdown",
   "metadata": {},
   "source": [
    "## Fundamental gate operations\n",
    "### Allocating two qubits\n",
    "We initialize a two qubit state: \n",
    "   \n",
    "   $|\\Psi\\rangle = |00\\rangle$\n",
    "\n",
    "both are at |0> state."
   ]
  },
  {
   "cell_type": "code",
   "execution_count": 70,
   "metadata": {},
   "outputs": [
    {
     "name": "stdout",
     "output_type": "stream",
     "text": [
      "(Note: This is the (slow) Python simulator.)\n",
      "\n",
      "*Allocate 2 qubits\n",
      "   |Psi> = 1.0|00> +0.0|01> +0.0|10> +0.0|11> \n"
     ]
    }
   ],
   "source": [
    "# initialize variables\n",
    "from projectq import MainEngine\n",
    "\n",
    "eng = MainEngine() ## engine\n",
    "nqubits=2\n",
    "mask='02b'\n",
    "print(\"\\n*Allocate %s qubits\" %nqubits)\n",
    "\n",
    "qureg = eng.allocate_qureg(nqubits) ### allocate_qubit() -- single qubit\n",
    "## allocate 2 qubit, stored at qureg, \n",
    "# the qubit could be accessed as qureg[0], qureg[1]\n",
    "\n",
    "print_wavefunction(qureg, nqubits, mask, 'all')"
   ]
  },
  {
   "cell_type": "markdown",
   "metadata": {},
   "source": [
    "## NOT gate (or X gate)\n",
    "\n",
    "* NOT gate transformation\n",
    "\n",
    "    $|0\\rangle \\longrightarrow |1\\rangle$\n",
    "\n",
    "    $|1\\rangle \\longrightarrow |0\\rangle$\n",
    "\n",
    "\n",
    "* Matrix representation is \n",
    "\n",
    "    NOT = $\\left(\n",
    "    \\begin{matrix}\n",
    "    0 & 1 \\\\\n",
    "    1 & 0\n",
    "    \\end{matrix}\\right)\n",
    "    $. \n",
    "This is the Pauli $\\sigma_x$ matrix."
   ]
  },
  {
   "cell_type": "code",
   "execution_count": 71,
   "metadata": {},
   "outputs": [
    {
     "name": "stdout",
     "output_type": "stream",
     "text": [
      "*Initial state\n",
      "   |Psi> = 1.00|00> \n",
      "\n",
      "*Apply NOT gate to Q0\n",
      "   |Psi> = 1.00|10> \n",
      "\n",
      "*Apply NOT gate to Q1\n",
      "   |Psi> = 1.00|11> \n"
     ]
    }
   ],
   "source": [
    "print(\"*Initial state\")\n",
    "print_wavefunction(qureg, nqubits, mask)\n",
    "print(\"\\n*Apply NOT gate to Q0\")\n",
    "NOT | qureg[0] # Syntax for gate operation is : op | qubit\n",
    "print_wavefunction(qureg, nqubits, mask)\n",
    "print(\"\\n*Apply NOT gate to Q1\")\n",
    "NOT | qureg[1]\n",
    "print_wavefunction(qureg, nqubits, mask)"
   ]
  },
  {
   "cell_type": "markdown",
   "metadata": {},
   "source": [
    "## Hadamard (H) gate\n",
    "\n",
    "* Hadamard transformation\n",
    "\n",
    "    $|0\\rangle \\longrightarrow \\frac{1}{\\sqrt{2}}(|0\\rangle + |1\\rangle)$ \n",
    "\n",
    "    $|1\\rangle \\longrightarrow \\frac{1}{\\sqrt{2}}(|0\\rangle - |1\\rangle)$ \n",
    "\n",
    "* The matrix representation is: \n",
    "\n",
    "    H = $\n",
    "\\frac{1}{\\sqrt{2}}\\left(\n",
    "\\begin{matrix}\n",
    "1 & 1 \\\\\n",
    "1 & -1\n",
    "\\end{matrix}\\right)\n",
    "$\n",
    "\n",
    "* Two Hadamard gate together equals to identify\n",
    "\n",
    "    $H\\times H=I$\n",
    "\n",
    "The circuit is \n",
    "<img src=\"hadamard.png\">"
   ]
  },
  {
   "cell_type": "code",
   "execution_count": 81,
   "metadata": {},
   "outputs": [
    {
     "name": "stdout",
     "output_type": "stream",
     "text": [
      "(Note: This is the (slow) Python simulator.)\n",
      "*Initial state\n",
      "   |Psi> = 1.00|00> \n",
      "\n",
      "*Apply Hadamard gate to Q0\n",
      "   |Psi> = 0.71|00> + 0.71|10> \n",
      "\n",
      "*Apply Hadamard gate to Q1\n",
      "   |Psi> = 0.50|00> + 0.50|01> + 0.50|10> + 0.50|11> \n",
      "\n",
      "*Measure the state\n",
      "   |Psi> = 1.00|10> \n"
     ]
    }
   ],
   "source": [
    "from projectq import MainEngine\n",
    "eng = MainEngine() ## engine\n",
    "nqubits=2\n",
    "mask='02b'\n",
    "qureg = eng.allocate_qureg(nqubits) \n",
    "print(\"*Initial state\")\n",
    "print_wavefunction(qureg, nqubits, mask)\n",
    "print(\"\\n*Apply Hadamard gate to Q0\")\n",
    "H | qureg[0]\n",
    "print_wavefunction(qureg, nqubits, mask)\n",
    "print(\"\\n*Apply Hadamard gate to Q1\")\n",
    "H | qureg[1]\n",
    "print_wavefunction(qureg, nqubits, mask)\n",
    "Measure | qureg\n",
    "print(\"\\n*Measure the state\")\n",
    "print_wavefunction(qureg, nqubits, mask)\n",
    "del(qureg)"
   ]
  },
  {
   "cell_type": "markdown",
   "metadata": {},
   "source": [
    "## CNOT\n",
    "\n",
    "Control NOT: apply NOT to a qubit if the control qubit is at state |1>: \n",
    "\n",
    "The operation of CNOT is as follows (the first qubit is the control qubit):\n",
    "\n",
    "\n",
    "$\n",
    " \\quad |\\underline{0}0\\rangle \\longrightarrow|\\underline{0}0\\rangle\\\\\n",
    "\\quad |\\underline{0}1\\rangle  \\longrightarrow |\\underline{0}1\\rangle\\\\\n",
    "\\quad |\\underline{1}0\\rangle  \\longrightarrow|\\underline{1}1\\rangle\\\\\n",
    "\\quad |\\underline{1}1\\rangle  \\longrightarrow |\\underline{1}0\\rangle\n",
    "$\n",
    "\n",
    "Matrix representation of CNOT operator is: \n",
    "\n",
    "CNOT = $\n",
    "\\left(\n",
    "\\begin{matrix}\n",
    "1 & 0 & 0 & 0 \\\\\n",
    "0 & 1 & 0 & 0 \\\\\n",
    "0 & 0 & 0 & 1 \\\\\n",
    "0 & 0 & 1 & 0 \n",
    "\\end{matrix}\\right)\n",
    "$\n",
    "\n",
    "The circuit for the CNOT gate is:\n",
    "<img, src=\"cnot.png\">"
   ]
  },
  {
   "cell_type": "code",
   "execution_count": 84,
   "metadata": {},
   "outputs": [
    {
     "name": "stdout",
     "output_type": "stream",
     "text": [
      "*Allocate 2 qubits: \n",
      "   |Psi> = 1.00|00> \n",
      "\n",
      "*CNOT Q0->Q1\n",
      "   |Psi> = 1.00|00> \n",
      "\n",
      "*Apply NOT gate to Q0 \n",
      "   |Psi> = 1.00|10> \n",
      "\n",
      "*CNOT Q0->Q1\n",
      "   |Psi> = 1.00|11> \n",
      "\n",
      "*CNOT Q1->Q0\n",
      "   |Psi> = 1.00|01> \n"
     ]
    }
   ],
   "source": [
    "print(\"*Allocate 2 qubits: \")\n",
    "nqubits=2\n",
    "mask='02b'\n",
    "qureg = eng.allocate_qureg(nqubits)\n",
    "\n",
    "print_wavefunction(qureg, nqubits, mask)\n",
    "print(\"\\n*CNOT Q0->Q1\")\n",
    "CNOT | (qureg[0], qureg[1])  \n",
    "## operate on the second qubit based on the state of the first qubit\n",
    "\n",
    "print_wavefunction(qureg, nqubits, mask)\n",
    "NOT | qureg[0]\n",
    "print(\"\\n*Apply NOT gate to Q0 \")\n",
    "print_wavefunction(qureg, nqubits, mask)\n",
    "print(\"\\n*CNOT Q0->Q1\")\n",
    "CNOT | (qureg[0], qureg[1])  ## operate on the second qubit based on the state of the first qubit\n",
    "print_wavefunction(qureg, nqubits, mask)\n",
    "print(\"\\n*CNOT Q1->Q0\")\n",
    "CNOT | (qureg[1], qureg[0])  \n",
    "print_wavefunction(qureg, nqubits, mask)\n",
    "del(qureg)"
   ]
  },
  {
   "cell_type": "markdown",
   "metadata": {},
   "source": [
    "## Quantum Random Number Generator\n",
    "\n",
    "If a qubit is in a linear superposition state:\n",
    "$$\n",
    "|\\psi\\rangle = \\frac{1}{\\sqrt{2}}\\Big(|0\\rangle + |1\\rangle \\Big)\n",
    "$$\n",
    "after measurement, it will collapse to $|0\\rangle$ or $|1\\rangle$, each with 50% probability. This is a natural \"true\" random number generator for 0, 1. Classical computers could only produce quasi random generators. \n",
    "\n",
    "We could rotate the qubit back to linear superposition state using Hadamard gate: \n",
    "$$\n",
    "H|0\\rangle = \\frac{1}{\\sqrt{2}}(|0\\rangle + |1\\rangle)\\\\\n",
    "H|1\\rangle = \\frac{1}{\\sqrt{2}}(|0\\rangle - |1\\rangle)\n",
    "$$\n",
    "We could do measurement-> H -> measurement -> H to get multiple random number [0, 1].\n",
    "\n",
    "<img, src=\"qcrnd.png\">"
   ]
  },
  {
   "cell_type": "code",
   "execution_count": 86,
   "metadata": {},
   "outputs": [
    {
     "data": {
      "image/png": "[encoded data removed]",
      "text/plain": [
       "<matplotlib.figure.Figure at 0x81c040320>"
      ]
     },
     "metadata": {},
     "output_type": "display_data"
    }
   ],
   "source": [
    "def QRng(m=100):\n",
    "    # allocate one qubit\n",
    "    q1 = eng.allocate_qubit()\n",
    "    R =[]\n",
    "    for i in range(m):\n",
    "        # superposition state\n",
    "        H | q1\n",
    "        # measure\n",
    "        Measure | q1\n",
    "        R.append(int(q1))\n",
    "    eng.flush()\n",
    "    del(q1)\n",
    "    return R\n",
    "R = QRng(1000)\n",
    "plt.hist(R)\n",
    "plt.xlim(-0.2, 1.2)\n",
    "plt.xticks([0.05, 0.95], [0, 1])\n",
    "plt.xlabel(\"Random number\")\n",
    "plt.show()"
   ]
  },
  {
   "cell_type": "markdown",
   "metadata": {},
   "source": [
    "## Generate random number [0, N-1], $2^n = N$ "
   ]
  },
  {
   "cell_type": "code",
   "execution_count": 87,
   "metadata": {},
   "outputs": [
    {
     "name": "stdout",
     "output_type": "stream",
     "text": [
      "[6, 9, 4, 13, 7, 12, 5, 11, 5, 1]\n"
     ]
    }
   ],
   "source": [
    "## Generate random number between [0, 16)\n",
    "def Rng4(m=0, n=4):\n",
    "    # allocate one qubit\n",
    "    q1 = eng.allocate_qubit()\n",
    "    R=[]\n",
    "    for i in range(m):\n",
    "        # single random number \n",
    "        p=0\n",
    "        for j in range(n):\n",
    "            H | q1\n",
    "            Measure | q1\n",
    "            p=2*p+int(q1)\n",
    "        R.append(p)\n",
    "    eng.flush()\n",
    "    del(q1)\n",
    "    return R\n",
    "\n",
    "print(Rng4(10)) ## measure 4 times to get a single number. "
   ]
  },
  {
   "cell_type": "markdown",
   "metadata": {},
   "source": [
    "### Exercise: generate random number using multiple qubits\n",
    "We could also directly use multiple qubits. For n qubit, we could create \"maximum\" superposition state: \n",
    "$$\n",
    "|0\\rangle^{\\otimes n}\\longrightarrow^H |\\psi\\rangle_n =  \\frac{1}{\\sqrt{2}}\\Big(|0\\rangle + |1\\rangle \\Big)\\times \\frac{1}{\\sqrt{2}}\\Big(|0\\rangle + |1\\rangle \\Big)\\times  \\frac{1}{\\sqrt{2}}\\Big(|0\\rangle + |1\\rangle \\Big)...\\\\\n",
    "$$\n",
    "$$\n",
    "|\\psi\\rangle_3=\\frac{1}{\\sqrt{8}}\\Big(|000\\rangle + |001\\rangle + |010\\rangle + |011\\rangle  +|100\\rangle + |101\\rangle + |110\\rangle + |111\\rangle\\Big)\\\\\n",
    "=\\frac{1}{\\sqrt{8}}\\Big(|0\\rangle_{10} + |1\\rangle_{10} + |2\\rangle_{10}  +|3\\rangle_{10}  +|4\\rangle_{10}+|5\\rangle_{10}  +|6\\rangle_{10}+|7\\rangle_{10}\\Big)\n",
    "$$\n",
    "Now if we measure all the qubits simuataneously, it will collapse to one of the eight state with equal probability. \n",
    "\n"
   ]
  },
  {
   "cell_type": "markdown",
   "metadata": {},
   "source": [
    "## Bell state\n",
    "\n",
    "The Bell states are for specific maximally entangled quantum states of two qubits.\n",
    "\n",
    "$$\n",
    "|\\Psi\\rangle = \\frac{1}{\\sqrt{2}} \\Big(|00\\rangle + |11\\rangle\\Big)\n",
    "$$\n",
    "The following state, \n",
    "$$\n",
    "|\\Psi\\rangle = \\frac{1}{2}\\Big(|00\\rangle + |01\\rangle + |10\\rangle + |11\\rangle\\Big) = \\frac{1}{\\sqrt{2}}\\Big(|0\\rangle + |1\\rangle \\Big)\\times \\frac{1}{\\sqrt{2}}\\Big(|0\\rangle + |1\\rangle \\Big)\n",
    "$$\n",
    "is not an entangled state. \n",
    "\n",
    "Question: how to create such a Bell state from the initial state $|00\\rangle$?\n",
    "\n",
    "\n",
    "\n",
    "<img src=\"https://projectq.readthedocs.io/en/latest/_images/bellpair_circuit.png\", width=250, height=250>\n",
    "\n",
    "$$\n",
    "|00\\rangle \\longrightarrow^H \\frac{1}{\\sqrt{2}}\\Big(|0\\rangle + |1\\rangle)|0\\rangle\\Big) \\longrightarrow^{CNOT} \\frac{1}{\\sqrt{2}} \\Big(|00\\rangle + |11\\rangle\\Big)\n",
    "$$"
   ]
  },
  {
   "cell_type": "code",
   "execution_count": 88,
   "metadata": {},
   "outputs": [
    {
     "name": "stdout",
     "output_type": "stream",
     "text": [
      "(Note: This is the (slow) Python simulator.)\n",
      "*Initial state: \n",
      "   |Psi> = 1.00|00> \n",
      "\n",
      "*Entangle the state\n",
      "   |Psi> = 0.71|00> + 0.71|11> \n",
      "\n",
      "Measure the state\n",
      "   |Psi> = 1.00|11> \n"
     ]
    }
   ],
   "source": [
    "from projectq import MainEngine\n",
    "eng = MainEngine()\n",
    "print(\"*Initial state: \")\n",
    "\n",
    "mask='02b'\n",
    "bell = eng.allocate_qureg(2)\n",
    "print_wavefunction(bell, 2, mask)\n",
    "print(\"\\n*Entangle the state\")\n",
    "H | bell[0]\n",
    "CNOT | (bell[0], bell[1])\n",
    "print_wavefunction(bell, 2, mask)\n",
    "print(\"\\nMeasure the state\")\n",
    "Measure | bell\n",
    "print_wavefunction(bell, 2, mask)\n",
    "del(bell)"
   ]
  },
  {
   "cell_type": "markdown",
   "metadata": {},
   "source": [
    "#### Exercise 1: implement a quatum telecomm\n",
    "<img, src=\"https://projectq.readthedocs.io/en/latest/_images/teleport_circuit.png\", width=250, height=250>\n",
    "\n",
    "https://projectq.readthedocs.io/en/latest/examples.html"
   ]
  },
  {
   "cell_type": "markdown",
   "metadata": {},
   "source": [
    "#### Exercise2: create a multiple qubit entangled state?\n",
    "$$\n",
    "|\\Psi\\rangle = \\frac{1}{\\sqrt{2}} (|00\\cdots 00\\rangle + |11\\cdots 11\\rangle )\n",
    "$$"
   ]
  },
  {
   "cell_type": "markdown",
   "metadata": {},
   "source": [
    "## Deutsch algorithm\n",
    "\n",
    "In the Deutsch-Jozsa problem, we are given a black box quantum computer known as an oracle that implements some function \n",
    "$$\n",
    "f:\\{0,1\\}^{n}\\rightarrow \\{0,1\\}. \n",
    "$$ \n",
    "In other words, it takes n-digit binary values as input and produces either a 0 or a 1 as output for each such value. We are promised that the function is either \"constant\" (0 on all outputs or 1 on all outputs) or \"balanced\" (returns 1 for half of the input domain and 0 for the other half); \n",
    "\n",
    "For the two bit example:\n",
    "* Constant: \n",
    "$$\n",
    "f(00) = f(01) = f(10) = f(11) =1\n",
    "$$\n",
    "* Balanced:\n",
    "$$\n",
    "f(00) = f(01) =0, \\quad f(10) = f(11) =1\n",
    "$$\n",
    "\n",
    "For an n-qubit input, the complexity to know whether f is 1 or zero is $2^n/2 = 2^{n-1}$. \n",
    "\n",
    "### Quantum Supremacy / Advantage\n",
    "We will show that using quantum algorithm, we are able to do this in O(n) complexity, i.e., the number of gate operation in the order of n. \n",
    "\n",
    "We assume there is a quantum Oracle\n",
    "\n",
    "$$ U_f |x\\rangle |y\\rangle = |x\\rangle|f(x)\\oplus y\\rangle $$\n",
    "\n",
    "Then the problem could be done by the following quantum circuit (Deutsch-Jozsa algorithm): \n",
    "\n",
    "<img src=\"dja.svg\">\n",
    "\n",
    "One could check the amplitude of $|00\\cdots 0\\rangle$. If it is zero, then f is balanced; if it is not zero, then f is constant. \n",
    "\n",
    "For details, please see the wikipedia page: \n",
    "https://en.wikipedia.org/wiki/Deutsch%E2%80%93Jozsa_algorithm\n",
    "\n",
    "### Two-qubit example (Deutsch's algorithm)\n",
    "Deutsch's algorithm is a special case of the general Deutsch–Jozsa algorithm. We need to check the condition $f(0)=f(1)$. It is equivalent to check $f(0)\\oplus f(1)$ (where  $\\oplus$  is addition modulo 2, which can also be viewed as a quantum XOR gate implemented as a Controlled NOT gate), if zero, then $f$ is constant, otherwise $f$ is not constant.\n",
    "\n",
    "We begin with the two-qubit state $|0\\rangle |1\\rangle$  and apply a Hadamard transform to each qubit. This yields\n",
    "\n",
    "$$|\\Psi_1\\rangle {\\frac  {1}{2}}(|0\\rangle +|1\\rangle )(|0\\rangle -|1\\rangle ).$$\n",
    "\n",
    "\n",
    "We are given a quantum implementation of the Oracle function $f$ that maps $|x\\rangle |y\\rangle$  to $|x\\rangle |f(x)\\oplus y\\rangle$. Applying this function to our current state we obtain\n",
    "\n",
    "\n",
    "$$U_f|\\Psi_1\\rangle = {\\frac{1}{2}}\\left(|0\\rangle (|f(0)\\oplus 0\\rangle -|f(0)\\oplus 1\\rangle \\right)+|1\\rangle \\left(|f(1)\\oplus 0\\rangle -|f(1)\\oplus 1\\rangle \\right)\\\\\n",
    "=\\frac{1}{2}((-1)^{f(0)}|0\\rangle (|0\\rangle - |1\\rangle + (-1)^{-1}|1\\rangle (|0\\rangle - |1\\rangle))\\\\\n",
    "=(-1)^{f(0)}\\frac{1}{2}\\left(|0\\rangle + (-1)^{f(0)\\oplus f(1)}|1\\rangle\\right)(|0\\rangle - |1\\rangle)\n",
    ".$$\n",
    "\n",
    "We ignore the last bit and the global phase and therefore have the state\n",
    "\n",
    "$$\\frac {1}{\\sqrt {2}}(|0\\rangle +(-1)^{f(0)\\oplus f(1)}|1\\rangle ).$$\n",
    "\n",
    "\n",
    "Applying a Hadamard transform to this state we have\n",
    "\n",
    "$$\\frac  {1}{2}(|0\\rangle +|1\\rangle +(-1)^{{f(0)\\oplus f(1)}}|0\\rangle -(-1)^{{f(0)\\oplus f(1)}}|1\\rangle )\\\\ ={\\frac  {1}{2}}\\Big([1+(-1)^{{f(0)\\oplus f(1)}}]|0\\rangle +[1-(-1)^{{f(0)\\oplus f(1)}}]|1\\rangle \\Big).$$\n",
    "\n",
    "We see that if $f(0)=f(1)$, we get the final state to be\n",
    "$$\\frac{1}{\\sqrt{2}}|0\\rangle(|0\\rangle -|1\\rangle )$$\n",
    "Otherwise, we get\n",
    "$$\\frac{1}{\\sqrt{2}}|1\\rangle(|0\\rangle -|1\\rangle )$$\n",
    "\n",
    "We could also apply Hadamard gate to the second qubit, so that \n",
    "We see that if $f(0)=f(1)$, we get the final state to be\n",
    "\n",
    "$$f(0)=f(1), \\quad |\\Psi\\rangle = |01\\rangle\\quad \\quad\\\\\n",
    "f(0)\\ne f(1), \\quad |\\Psi\\rangle = |11\\rangle $$"
   ]
  },
  {
   "cell_type": "code",
   "execution_count": 89,
   "metadata": {},
   "outputs": [
    {
     "name": "stdout",
     "output_type": "stream",
     "text": [
      "(Note: This is the (slow) Python simulator.)\n",
      "\n",
      "*Inital state |01>: \n",
      "   |Psi> = 1.00|01> \n",
      "\n",
      "*Apply Hadamard to each qubit: \n",
      "   |Psi> = 0.50|00> -0.50|01> + 0.50|10> -0.50|11> \n",
      "\n",
      "*Apply Oracle: \n",
      "   Constant oracle: f(0)=f(1)=0\n",
      "   |Psi> = 0.50|00> -0.50|01> + 0.50|10> -0.50|11> \n",
      "\n",
      "*Apply Hadamard to Q0 and Q1\n",
      "   |Psi> = 1.00|01> \n",
      "\n",
      "*Measure the first\n",
      "   Measured: |0>\n"
     ]
    }
   ],
   "source": [
    "# initialize variables\n",
    "from projectq import MainEngine\n",
    "eng = MainEngine()\n",
    "nqubits=2\n",
    "mask='02b'\n",
    "# allocate qubits\n",
    "qureg = eng.allocate_qureg(nqubits)\n",
    "NOT | qureg[1]\n",
    "\n",
    "def Oracle(qureg, f=[0, 1]):\n",
    "    if (f[0]==f[1]):\n",
    "        print(\"   Constant oracle: f(0)=f(1)=%s\"%(f[0]))\n",
    "        if (f==1):\n",
    "            NOT | qureg[1]\n",
    "        return\n",
    "    print(\"   Balanced oracle: f(0)=%s, f(1)=%s\"%(f[0], f[1]))\n",
    "    if f[0]==0:\n",
    "        CNOT | (qureg[0], qureg[1])\n",
    "    else:\n",
    "        CNOT | (qureg[0], qureg[1])\n",
    "        NOT | qureg[1]\n",
    "    return \n",
    "print(\"\\n*Inital state |01>: \")\n",
    "print_wavefunction(qureg, nqubits, mask)\n",
    "print(\"\\n*Apply Hadamard to each qubit: \")\n",
    "# apply gates\n",
    "H | qureg[0]\n",
    "H | qureg[1]\n",
    "print_wavefunction(qureg, nqubits, mask)\n",
    "\n",
    "print(\"\\n*Apply Oracle: \")\n",
    "\n",
    "Oracle(qureg, f=[0, 0])\n",
    "\n",
    "print_wavefunction(qureg, nqubits, mask)\n",
    "\n",
    "print(\"\\n*Apply Hadamard to Q0 and Q1\")\n",
    "H | qureg[0]\n",
    "H | qureg[1]\n",
    "print_wavefunction(qureg, nqubits, mask)\n",
    "# measure qubits\n",
    "print(\"\\n*Measure the first\")\n",
    "measure_qubits(qureg[0])\n",
    "del(qureg)"
   ]
  },
  {
   "cell_type": "markdown",
   "metadata": {},
   "source": [
    "# Exercises: implement 3-qubit Quantum Fourier Transition from the following circuit\n",
    "\n",
    "* Implementing a four qubit Quantum Fourier Transformation according to the following quantum circuit.\n",
    "<img, src=\"https://upload.wikimedia.org/wikipedia/commons/thumb/7/79/Q_fourier_3qubits.png/1200px-Q_fourier_3qubits.png\">\n",
    "\n",
    "R is a phase operation: \n",
    "$$\n",
    "R_m = \\left(\\begin{matrix}\n",
    "1 & 0 \\\\\n",
    "0 & \\omega_m\n",
    "\\end{matrix}\\right), \\quad \\omega_m = e^{\\frac{2\\pi i}{2^m}}\n",
    "$$"
   ]
  },
  {
   "cell_type": "code",
   "execution_count": 91,
   "metadata": {},
   "outputs": [
    {
     "name": "stdout",
     "output_type": "stream",
     "text": [
      "(Note: This is the (slow) Python simulator.)\n",
      "\n",
      "*Initial Wavefunction\n",
      "  s=0\n",
      "   |Psi> = 1.00|000> \n",
      "\n",
      "*Quantum Fourier Transformation\n",
      "   |Psi> = 0.35|000> + 0.35|001> + 0.35|010> + 0.35|011> + 0.35|100> + 0.35|101> + 0.35|110> + 0.35|111> \n",
      "\n",
      "*Measurement\n",
      "   |Psi> = 1.00|110> \n"
     ]
    }
   ],
   "source": [
    "from projectq import MainEngine\n",
    "from projectq.ops import H, NOT, CNOT, Measure, Rz, R, CRz\n",
    "import numpy as np\n",
    "def theta(m=0):\n",
    "    return 2*np.pi/2**m\n",
    "eng = MainEngine()\n",
    "nqubits=3\n",
    "mask='0%sb'%nqubits\n",
    "# allocate qubits\n",
    "qureg = eng.allocate_qureg(nqubits)\n",
    "def InitialState(qureg, s=0):\n",
    "    q = [int(s/4), int(s/2), s%2]\n",
    "    for i in range(3):\n",
    "        if (q[i]!=0):\n",
    "            NOT | qureg[i]\n",
    "    return\n",
    "\n",
    "def QFT(qureg):\n",
    "    H | qureg[0]\n",
    "    CRz(theta(2)) | (qureg[1], qureg[0])\n",
    "    CRz(theta(3)) | (qureg[2], qureg[0])\n",
    "    H | qureg[1]\n",
    "    CRz(theta(2)) | (qureg[2], qureg[1])\n",
    "    H | qureg[2]\n",
    "    return \n",
    "print(\"\\n*Initial Wavefunction\")\n",
    "s=0\n",
    "print(\"  s=%s\"%s)\n",
    "InitialState(qureg, s)  \n",
    "print_wavefunction(qureg, nqubits, mask)\n",
    "print(\"\\n*Quantum Fourier Transformation\")\n",
    "QFT(qureg)\n",
    "print_wavefunction(qureg, nqubits, mask)\n",
    "print(\"\\n*Measurement\")\n",
    "Measure | qureg\n",
    "print_wavefunction(qureg, nqubits, mask)\n",
    "del(qureg)"
   ]
  },
  {
   "cell_type": "code",
   "execution_count": null,
   "metadata": {
    "collapsed": true
   },
   "outputs": [],
   "source": []
  }
 ],
 "metadata": {
  "kernelspec": {
   "display_name": "Python [conda root]",
   "language": "python",
   "name": "conda-root-py"
  },
  "language_info": {
   "codemirror_mode": {
    "name": "ipython",
    "version": 3
   },
   "file_extension": ".py",
   "mimetype": "text/x-python",
   "name": "python",
   "nbconvert_exporter": "python",
   "pygments_lexer": "ipython3",
   "version": "3.5.3"
  }
 },
 "nbformat": 4,
 "nbformat_minor": 2
}
