{
 "cells": [
  {
   "cell_type": "markdown",
   "metadata": {},
   "source": [
    "# Deutsch algorithm with ProjectQ \n",
    "\n",
    "This tutorial will go through the following contents: \n",
    "\n",
    "* Fundamental gate operations\n",
    "    * NOT\n",
    "    * Hadamard \n",
    "    * CNOT\n",
    "\n",
    "\n",
    "* Two qubit Deutsch algorithm\n"
   ]
  },
  {
   "cell_type": "code",
   "execution_count": 1,
   "metadata": {},
   "outputs": [
    {
     "name": "stdout",
     "output_type": "stream",
     "text": [
      "(Note: This is the (slow) Python simulator.)\n"
     ]
    }
   ],
   "source": [
    "from __future__ import print_function\n",
    "#Importing projectQ gates\n",
    "from projectq.ops import H, NOT, CNOT, Measure\n",
    "from projectq import MainEngine\n",
    "eng = MainEngine()\n",
    "def print_wavefunction(qureg, nqubits, mask, opt='not'):\n",
    "  # print wavefunction\n",
    "    eng.flush()\n",
    "    print(\"   |Psi> = \", end='')\n",
    "    i=0\n",
    "    for s in range(2 ** nqubits):\n",
    "        bit_string = format(s, mask)\n",
    "        result=eng.backend.get_amplitude(bit_string, qureg)\n",
    "        if (opt.find('all')!=-1):\n",
    "            print(\"%.1f|%s> \" % (result.real,bit_string), end='')\n",
    "            if (s<2**nqubits-1):\n",
    "                print(\"+\", end='')\n",
    "        else:       \n",
    "            if (abs(result.real)!=0.0):\n",
    "                if i != 0 and result.real >0: print(\"+ \", end='')\n",
    "                print(\"%.2f|%s> \" % (result.real,bit_string), end='')\n",
    "                i=i+1\n",
    "    print()\n",
    "    return\n",
    "\n",
    "def print_qubits(qureg):\n",
    "    eng.flush()\n",
    "    i=0\n",
    "    try:\n",
    "        for q in qureg:\n",
    "            print(\"   Measured Q{}: |{}>\".format(i, int(q)))### multiple qubit case\n",
    "            i=i+1\n",
    "    except:\n",
    "        print(\"   Measured: |{}>\".format(int(qureg))) ### single qubit\n",
    "    return \n",
    "\n",
    "def measure_qubits(qureg):\n",
    "    Measure | qureg\n",
    "    eng.flush()\n",
    "    i=0\n",
    "    try:\n",
    "        for q in qureg:\n",
    "            print(\"   Measured Q{}: |{}>\".format(i, int(q)))### multiple qubit case\n",
    "            i=i+1\n",
    "    except:\n",
    "        print(\"   Measured: |{}>\".format(int(qureg))) ### single qubit\n",
    "    return "
   ]
  },
  {
   "cell_type": "markdown",
   "metadata": {},
   "source": [
    "## Fundamental gate operations\n",
    "### Initializing a two qubit state\n",
    "We initialize a two qubit state: \n",
    "   \n",
    "   $|\\Psi\\rangle = |00\\rangle$\n",
    "\n",
    "both are at |0> state."
   ]
  },
  {
   "cell_type": "code",
   "execution_count": 2,
   "metadata": {},
   "outputs": [
    {
     "name": "stdout",
     "output_type": "stream",
     "text": [
      "(Note: This is the (slow) Python simulator.)\n",
      "\n",
      "*Allocate 2 qubits\n",
      "   |Psi> = 1.0|00> +0.0|01> +0.0|10> +0.0|11> \n"
     ]
    }
   ],
   "source": [
    "# initialize variables\n",
    "eng = MainEngine() ## engine\n",
    "nqubits=2\n",
    "mask='02b'\n",
    "qureg = eng.allocate_qureg(nqubits) ## allocate 2 qubit, stored at qureg\n",
    "print(\"\\n*Allocate %s qubits\" %nqubits)\n",
    "print_wavefunction(qureg, nqubits, mask, 'all')"
   ]
  },
  {
   "cell_type": "markdown",
   "metadata": {},
   "source": [
    "## NOT gate\n",
    "\n",
    "* NOT gate transformation\n",
    "\n",
    "    $|0\\rangle \\longrightarrow |1\\rangle$\n",
    "\n",
    "    $|1\\rangle \\longrightarrow |0\\rangle$\n",
    "\n",
    "\n",
    "* Matrix representation is \n",
    "\n",
    "    NOT = $\\left(\n",
    "    \\begin{matrix}\n",
    "    0 & 1 \\\\\n",
    "    1 & 0\n",
    "    \\end{matrix}\\right)\n",
    "    $"
   ]
  },
  {
   "cell_type": "code",
   "execution_count": 3,
   "metadata": {},
   "outputs": [
    {
     "name": "stdout",
     "output_type": "stream",
     "text": [
      "*Initial state\n",
      "   |Psi> = 1.00|00> \n",
      "\n",
      "*Apply NOT gate to the first qubit\n",
      "   |Psi> = 1.00|10> \n",
      "\n",
      "*Apply NOT gate to the first qubit again\n",
      "   |Psi> = 1.00|00> \n"
     ]
    }
   ],
   "source": [
    "print(\"*Initial state\")\n",
    "print_wavefunction(qureg, nqubits, mask)\n",
    "print(\"\\n*Apply NOT gate to the first qubit\")\n",
    "NOT | qureg[0]\n",
    "\n",
    "print_wavefunction(qureg, nqubits, mask)\n",
    "\n",
    "print(\"\\n*Apply NOT gate to the first qubit again\")\n",
    "NOT | qureg[0]\n",
    "print_wavefunction(qureg, nqubits, mask)"
   ]
  },
  {
   "cell_type": "markdown",
   "metadata": {},
   "source": [
    "## Hadamard (H) gate\n",
    "\n",
    "* Hadamard transformation\n",
    "\n",
    "    $|0\\rangle \\longrightarrow \\frac{1}{\\sqrt{2}}(|0\\rangle + |1\\rangle)$ \n",
    "\n",
    "    $|1\\rangle \\longrightarrow \\frac{1}{\\sqrt{2}}(|0\\rangle - |1\\rangle)$ \n",
    "\n",
    "* The matrix representation is: \n",
    "\n",
    "    H = $\n",
    "\\frac{1}{\\sqrt{2}}\\left(\n",
    "\\begin{matrix}\n",
    "1 & 1 \\\\\n",
    "1 & -1\n",
    "\\end{matrix}\\right)\n",
    "$\n",
    "\n",
    "* Two Hadamard gate together equals to identify\n",
    "\n",
    "    $H\\times H=I$\n"
   ]
  },
  {
   "cell_type": "code",
   "execution_count": 4,
   "metadata": {},
   "outputs": [
    {
     "name": "stdout",
     "output_type": "stream",
     "text": [
      "*Initial state\n",
      "   |Psi> = 1.00|00> \n",
      "\n",
      "*Apply Hadamard gate\n",
      "   |Psi> = 0.71|00> + 0.71|10> \n",
      "\n",
      "*Apply Hadamard gate again\n",
      "   |Psi> = 1.00|00> \n"
     ]
    }
   ],
   "source": [
    "print(\"*Initial state\")\n",
    "print_wavefunction(qureg, nqubits, mask)\n",
    "print(\"\\n*Apply Hadamard gate\")\n",
    "H | qureg[0]\n",
    "print_wavefunction(qureg, nqubits, mask)\n",
    "print(\"\\n*Apply Hadamard gate again\")\n",
    "H | qureg[0]\n",
    "print_wavefunction(qureg, nqubits, mask)"
   ]
  },
  {
   "cell_type": "markdown",
   "metadata": {},
   "source": [
    "## CNOT\n",
    "\n",
    "Control NOT: apply NOT to a qubit if the control qubit is at state |1>: \n",
    "\n",
    "\n",
    "$\n",
    " \\quad |00\\rangle \\longrightarrow|00\\rangle\\\\\n",
    "\\quad |01\\rangle  \\longrightarrow |01\\rangle\\\\\n",
    "\\quad |10\\rangle  \\longrightarrow|11\\rangle\\\\\n",
    "\\quad |11\\rangle  \\longrightarrow |10\\rangle\n",
    "$\n",
    "\n",
    "Matrix representation of CNOT operator is: \n",
    "\n",
    "CNOT = $\n",
    "\\left(\n",
    "\\begin{matrix}\n",
    "1 & 0 & 0 & 0 \\\\\n",
    "0 & 1 & 0 & 0 \\\\\n",
    "0 & 0 & 0 & 1 \\\\\n",
    "0 & 0 & 1 & 0 \n",
    "\\end{matrix}\\right)\n",
    "$\n"
   ]
  },
  {
   "cell_type": "code",
   "execution_count": 5,
   "metadata": {},
   "outputs": [
    {
     "name": "stdout",
     "output_type": "stream",
     "text": [
      "Initial state: \n",
      "   |Psi> = 1.00|00> \n",
      "\n",
      "*CNOT q0->q1\n",
      "   |Psi> = 1.00|00> \n",
      "\n",
      "*Apply NOT gate to q0 \n",
      "   |Psi> = 1.00|10> \n",
      "\n",
      "*CNOT q0->q1\n",
      "   |Psi> = 1.00|11> \n",
      "\n",
      "*CNOT q0->q1\n",
      "   |Psi> = 1.00|10> \n",
      "\n",
      "*Apply NOT to q0 to go back to initial state: \n",
      "   |Psi> = 1.00|00> \n"
     ]
    }
   ],
   "source": [
    "print(\"Initial state: \")\n",
    "print_wavefunction(qureg, nqubits, mask)\n",
    "print(\"\\n*CNOT q0->q1\")\n",
    "CNOT | (qureg[0], qureg[1])  ## operate on the second qubit based on the state of the first qubit\n",
    "print_wavefunction(qureg, nqubits, mask)\n",
    "NOT | qureg[0]\n",
    "print(\"\\n*Apply NOT gate to q0 \")\n",
    "print_wavefunction(qureg, nqubits, mask)\n",
    "print(\"\\n*CNOT q0->q1\")\n",
    "CNOT | (qureg[0], qureg[1])  ## operate on the second qubit based on the state of the first qubit\n",
    "print_wavefunction(qureg, nqubits, mask)\n",
    "print(\"\\n*CNOT q0->q1\")\n",
    "CNOT | (qureg[0], qureg[1])  ## operate on the second qubit based on the state of the first qubit\n",
    "print_wavefunction(qureg, nqubits, mask)\n",
    "\n",
    "print(\"\\n*Apply NOT to q0 to go back to initial state: \")\n",
    "NOT | qureg[0]\n",
    "print_wavefunction(qureg, nqubits, mask)"
   ]
  },
  {
   "cell_type": "markdown",
   "metadata": {},
   "source": [
    "## Deutsch algorithm\n",
    "\n",
    "In the Deutsch-Jozsa problem, we are given a black box quantum computer known as an oracle that implements some function $f:\\{0,1\\}^{n}\\rightarrow \\{0,1\\}$. In other words, it takes n-digit binary values as input and produces either a 0 or a 1 as output for each such value. We are promised that the function is either constant (0 on all outputs or 1 on all outputs) or balanced[3] (returns 1 for half of the input domain and 0 for the other half); the task then is to determine if f is constant or balanced by using the oracle.\n",
    "\n",
    "$$ U_f |x\\rangle |y\\rangle = |x\\rangle|f(x)\\oplus y\\rangle $$\n",
    "\n",
    "<img src=\"dja.svg\">\n",
    "Deutsch-Jozsa algorithm\n",
    "\n",
    "\n",
    "Deutsch's algorithm is a special case of the general Deutsch–Jozsa algorithm. We need to check the condition $f(0)=f(1)$. It is equivalent to check $f(0)\\oplus f(1)$ (where  $\\oplus$  is addition modulo 2, which can also be viewed as a quantum XOR gate implemented as a Controlled NOT gate), if zero, then $f$ is constant, otherwise $f$ is not constant.\n",
    "\n",
    "We begin with the two-qubit state $|0\\rangle |1\\rangle$  and apply a Hadamard transform to each qubit. This yields\n",
    "\n",
    "$${\\frac  {1}{2}}(|0\\rangle +|1\\rangle )(|0\\rangle -|1\\rangle ).$$\n",
    "\n",
    "\n",
    "We are given a quantum implementation of the function $f$ that maps $|x\\rangle |y\\rangle$  to $|x\\rangle |f(x)\\oplus y\\rangle$. Applying this function to our current state we obtain\n",
    "\n",
    "\n",
    "$${\\frac{1}{2}}\\left(|0\\rangle (|f(0)\\oplus 0\\rangle -|f(0)\\oplus 1\\rangle \\right)+|1\\rangle \\left(|f(1)\\oplus 0\\rangle -|f(1)\\oplus 1\\rangle \\right)\\\\\n",
    "=\\frac{1}{2}((-1)^{f(0)}|0\\rangle (|0\\rangle - |1\\rangle + (-1)^{-1}|1\\rangle (|0\\rangle - |1\\rangle))\\\\\n",
    "=(-1)^{f(0)}\\frac{1}{2}\\left(|0\\rangle + (-1)^{f(0)\\oplus f(1)}|1\\rangle\\right)(|0\\rangle - |1\\rangle)\n",
    ".$$\n",
    "\n",
    "We ignore the last bit and the global phase and therefore have the state\n",
    "\n",
    "$$\\frac {1}{\\sqrt {2}}(|0\\rangle +(-1)^{f(0)\\oplus f(1)}|1\\rangle ).$$\n",
    "\n",
    "\n",
    "Applying a Hadamard transform to this state we have\n",
    "\n",
    "$$\\frac  {1}{2}(|0\\rangle +|1\\rangle +(-1)^{{f(0)\\oplus f(1)}}|0\\rangle -(-1)^{{f(0)\\oplus f(1)}}|1\\rangle )\\\\ ={\\frac  {1}{2}}((1+(-1)^{{f(0)\\oplus f(1)}})|0\\rangle +(1-(-1)^{{f(0)\\oplus f(1)}})|1\\rangle ).$$\n",
    "\n",
    "We see that if $f(0)=f(1)$, we get the final state to be\n",
    "$$\\frac{1}{\\sqrt{2}}|0\\rangle(|0\\rangle -|1\\rangle )$$\n",
    "Otherwise, we get\n",
    "$$\\frac{1}{\\sqrt{2}}|1\\rangle(|0\\rangle -|1\\rangle )$$\n",
    "\n",
    "We could also apply Hadamard gate to the second qubit, so that \n",
    "We see that if $f(0)=f(1)$, we get the final state to be\n",
    "\n",
    "$$f(0)=f(1), \\quad |\\Psi\\rangle = |00\\rangle\\quad \\quad\\\\\n",
    "f(0)\\ne f(1), \\quad |\\Psi\\rangle = |01\\rangle $$\n"
   ]
  },
  {
   "cell_type": "code",
   "execution_count": 6,
   "metadata": {},
   "outputs": [
    {
     "name": "stdout",
     "output_type": "stream",
     "text": [
      "(Note: This is the (slow) Python simulator.)\n",
      "\n",
      "*Inital state |01>: \n",
      "   |Psi> = 1.00|01> \n",
      "\n",
      "*Apply Hadamard to each qubit: \n",
      "   |Psi> = 0.50|00> -0.50|01> + 0.50|10> -0.50|11> \n",
      "\n",
      "*Apply Oracle: \n",
      "    Balanced oracle: f(0)=0, f(1)=1\n",
      "   |Psi> = 0.50|00> -0.50|01> -0.50|10> + 0.50|11> \n",
      "\n",
      "*Apply Hadamard to Q0\n",
      "   |Psi> = 1.00|11> \n",
      "\n",
      "*Measure the first\n",
      "   Measured: |1>\n"
     ]
    }
   ],
   "source": [
    "# initialize variables\n",
    "nqubits=2\n",
    "mask='02b'\n",
    "\n",
    "# create a main compiler engine\n",
    "eng = MainEngine()\n",
    "\n",
    "# allocate qubits\n",
    "qureg = eng.allocate_qureg(nqubits)\n",
    "NOT | qureg[1]\n",
    "\n",
    "def Constant_Oracle(qureg, f=0):\n",
    "    print(\"    Constant oracle: f(0)=f(1)=%s\"%f)\n",
    "    if (f==1):\n",
    "        NOT | qureg[1]\n",
    "        \n",
    "def Balanced_Oracle(qureg, f=[0, 1]):\n",
    "    print(\"    Balanced oracle: f(0)=%s, f(1)=%s\"%(f[0], f[1]))\n",
    "    if f[0]==0:\n",
    "        CNOT | (qureg[0], qureg[1])\n",
    "    else:\n",
    "        CNOT | (qureg[0], qureg[1])\n",
    "        NOT | qureg[1]\n",
    "\n",
    "print(\"\\n*Inital state |01>: \")\n",
    "print_wavefunction(qureg, nqubits, mask)\n",
    "print(\"\\n*Apply Hadamard to each qubit: \")\n",
    "# apply gates\n",
    "H | qureg[0]\n",
    "H | qureg[1]\n",
    "print_wavefunction(qureg, nqubits, mask)\n",
    "\n",
    "print(\"\\n*Apply Oracle: \")\n",
    "\n",
    "Balanced_Oracle(qureg, f=[0, 1])\n",
    "\n",
    "print_wavefunction(qureg, nqubits, mask)\n",
    "\n",
    "print(\"\\n*Apply Hadamard to Q0\")\n",
    "H | qureg[0]\n",
    "H | qureg[1]\n",
    "print_wavefunction(qureg, nqubits, mask)\n",
    "\n",
    "# measure qubits\n",
    "\n",
    "print(\"\\n*Measure the first\")\n",
    "measure_qubits(qureg[0])\n"
   ]
  },
  {
   "cell_type": "markdown",
   "metadata": {},
   "source": [
    "# Exercises\n",
    "\n",
    "* Implementing a three qubit Deutsch's algorithm\n",
    "* Implementing a four qubit Quantum Fourier Transformation according to the following quantum circuit."
   ]
  }
 ],
 "metadata": {
  "kernelspec": {
   "display_name": "Python [conda root]",
   "language": "python",
   "name": "conda-root-py"
  },
  "language_info": {
   "codemirror_mode": {
    "name": "ipython",
    "version": 3
   },
   "file_extension": ".py",
   "mimetype": "text/x-python",
   "name": "python",
   "nbconvert_exporter": "python",
   "pygments_lexer": "ipython3",
   "version": "3.5.3"
  }
 },
 "nbformat": 4,
 "nbformat_minor": 2
}
