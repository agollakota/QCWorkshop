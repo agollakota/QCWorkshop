{
 "cells": [
  {
   "cell_type": "markdown",
   "metadata": {},
   "source": [
    "# Fundamental gates operations\n",
    "\n",
    "This tutorial will go through some fundamental gate operations"
   ]
  },
  {
   "cell_type": "code",
   "execution_count": 6,
   "metadata": {
    "collapsed": true
   },
   "outputs": [],
   "source": [
    "from __future__ import print_function\n",
    "from projectq.ops import H, NOT, CNOT, Measure\n",
    "from projectq import MainEngine\n",
    "\n",
    "def print_wavefunction(qureg, nqubits, mask):\n",
    "  # print wavefunction\n",
    "  compiler_engine.flush()\n",
    "  print(\"wavefunction= \", end='')\n",
    "  for s in range(2 ** nqubits):\n",
    "    bit_string = format(s, mask)\n",
    "    result=compiler_engine.backend.get_amplitude(bit_string, qureg)\n",
    "    print(\"%.1f|%s> \" % (result.real,bit_string), end='')\n",
    "    if s != (2 ** nqubits-1): print(\"+ \", end='')\n",
    "  print(\"\")\n",
    "  return\n",
    "\n",
    "def print_qubits(qureg):\n",
    "  compiler_engine.flush()\n",
    "  for q in qureg:\n",
    "    print(\"Measured: {}\".format(int(q)))"
   ]
  },
  {
   "cell_type": "markdown",
   "metadata": {},
   "source": [
    "## NOT & CNOT gate\n",
    "### intitialized two qubit and print wave functions |00>"
   ]
  },
  {
   "cell_type": "code",
   "execution_count": 7,
   "metadata": {
    "collapsed": false
   },
   "outputs": [
    {
     "name": "stdout",
     "output_type": "stream",
     "text": [
      "wavefunction= 1.0|00> + 0.0|01> + 0.0|10> + 0.0|11> \n"
     ]
    }
   ],
   "source": [
    "# initialize variables\n",
    "nqubits=2\n",
    "mask='02b'\n",
    "\n",
    "# create a main compiler engine\n",
    "compiler_engine = MainEngine()\n",
    "\n",
    "# allocate qubits\n",
    "qureg = compiler_engine.allocate_qureg(nqubits)\n",
    "print_wavefunction(qureg, nqubits, mask)"
   ]
  },
  {
   "cell_type": "code",
   "execution_count": 9,
   "metadata": {
    "collapsed": false
   },
   "outputs": [
    {
     "name": "stdout",
     "output_type": "stream",
     "text": [
      "NOT to the first qubit\n",
      "wavefunction= 0.0|00> + 1.0|01> + 0.0|10> + 0.0|11> \n",
      "Apply CNOT gate, the second qubit is the controll quibit\n",
      "wavefunction= 0.0|00> + 1.0|01> + 0.0|10> + 0.0|11> \n",
      "Measured: 0\n",
      "Measured: 1\n"
     ]
    }
   ],
   "source": [
    "# apply gates\n",
    "print (\"NOT to the first qubit\")\n",
    "NOT | qureg[0]\n",
    "print_wavefunction(qureg, nqubits, mask)\n",
    "print (\"Apply CNOT gate, the second qubit is the controll quibit\")\n",
    "CNOT | (qureg[0], qureg[1])\n",
    "print_wavefunction(qureg, nqubits, mask)\n",
    "\n",
    "# measure qubits\n",
    "Measure | qureg\n",
    "\n",
    "# print the result:\n",
    "print_qubits(qureg)\n"
   ]
  },
  {
   "cell_type": "markdown",
   "metadata": {},
   "source": [
    "## Deutsch"
   ]
  },
  {
   "cell_type": "code",
   "execution_count": 10,
   "metadata": {
    "collapsed": false
   },
   "outputs": [
    {
     "name": "stdout",
     "output_type": "stream",
     "text": [
      "wavefunction= 1.0|00> + 0.0|01> + 0.0|10> + 0.0|11> \n",
      "wavefunction= 0.5|00> + 0.5|01> + 0.5|10> + 0.5|11> \n",
      "wavefunction= 0.5|00> + 0.5|01> + 0.5|10> + 0.5|11> \n",
      "wavefunction= 1.0|00> + 0.0|01> + 0.0|10> + 0.0|11> \n",
      "Measured: 0\n",
      "Measured: 0\n"
     ]
    }
   ],
   "source": [
    "# initialize variables\n",
    "nqubits=2\n",
    "mask='02b'\n",
    "\n",
    "# create a main compiler engine\n",
    "compiler_engine = MainEngine()\n",
    "\n",
    "# allocate qubits\n",
    "qureg = compiler_engine.allocate_qureg(nqubits)\n",
    "#NOT | qureg[1]\n",
    "print_wavefunction(qureg, nqubits, mask)\n",
    "\n",
    "# apply gates\n",
    "H | qureg[0]\n",
    "H | qureg[1]\n",
    "print_wavefunction(qureg, nqubits, mask)\n",
    "\n",
    "# apply Oracle\n",
    "#NOT | qureg[0]\n",
    "#NOT | qureg[1]\n",
    "print_wavefunction(qureg, nqubits, mask)\n",
    "\n",
    "H | qureg[0]\n",
    "H | qureg[1]\n",
    "print_wavefunction(qureg, nqubits, mask)\n",
    "\n",
    "# measure qubits\n",
    "Measure | qureg\n",
    "\n",
    "# print the result:\n",
    "print_qubits(qureg)\n"
   ]
  },
  {
   "cell_type": "code",
   "execution_count": 11,
   "metadata": {
    "collapsed": false
   },
   "outputs": [
    {
     "name": "stdout",
     "output_type": "stream",
     "text": [
      "[16.+0.j  0.+0.j  0.+0.j  0.+0.j  0.+0.j  0.+0.j  0.+0.j  0.+0.j  0.+0.j\n",
      "  0.+0.j  0.+0.j  0.+0.j  0.+0.j  0.+0.j  0.+0.j  0.+0.j]\n",
      "wavefunction= 1.0|0000> + 0.0|0001> + 0.0|0010> + 0.0|0011> + 0.0|0100> + 0.0|0101> + 0.0|0110> + 0.0|0111> + 0.0|1000> + 0.0|1001> + 0.0|1010> + 0.0|1011> + 0.0|1100> + 0.0|1101> + 0.0|1110> + 0.0|1111> \n",
      "wavefunction= 0.4|0000> + 0.4|0001> + 0.4|0010> + 0.4|0011> + 0.4|0100> + 0.4|0101> + 0.4|0110> + 0.4|0111> + 0.0|1000> + 0.0|1001> + 0.0|1010> + 0.0|1011> + 0.0|1100> + 0.0|1101> + 0.0|1110> + 0.0|1111> \n"
     ]
    },
    {
     "ename": "NameError",
     "evalue": "name 'C' is not defined",
     "output_type": "error",
     "traceback": [
      "\u001b[0;31m---------------------------------------------------------------------------\u001b[0m",
      "\u001b[0;31mNameError\u001b[0m                                 Traceback (most recent call last)",
      "\u001b[0;32m<ipython-input-11-4758741cfbdd>\u001b[0m in \u001b[0;36m<module>\u001b[0;34m()\u001b[0m\n\u001b[1;32m     22\u001b[0m \u001b[0mprint_wavefunction\u001b[0m\u001b[0;34m(\u001b[0m\u001b[0mqureg\u001b[0m\u001b[0;34m,\u001b[0m \u001b[0mnqubits\u001b[0m\u001b[0;34m,\u001b[0m \u001b[0mmask\u001b[0m\u001b[0;34m)\u001b[0m\u001b[0;34m\u001b[0m\u001b[0m\n\u001b[1;32m     23\u001b[0m \u001b[0;34m\u001b[0m\u001b[0m\n\u001b[0;32m---> 24\u001b[0;31m \u001b[0mC\u001b[0m\u001b[0;34m(\u001b[0m\u001b[0mR\u001b[0m\u001b[0;34m(\u001b[0m\u001b[0mmath\u001b[0m\u001b[0;34m.\u001b[0m\u001b[0mpi\u001b[0m\u001b[0;34m/\u001b[0m\u001b[0;34m(\u001b[0m\u001b[0;36m2\u001b[0m\u001b[0;34m)\u001b[0m\u001b[0;34m)\u001b[0m\u001b[0;34m)\u001b[0m \u001b[0;34m|\u001b[0m \u001b[0;34m(\u001b[0m\u001b[0mqureg\u001b[0m\u001b[0;34m[\u001b[0m\u001b[0;36m0\u001b[0m\u001b[0;34m]\u001b[0m\u001b[0;34m,\u001b[0m \u001b[0mqureg\u001b[0m\u001b[0;34m[\u001b[0m\u001b[0;36m1\u001b[0m\u001b[0;34m]\u001b[0m\u001b[0;34m)\u001b[0m\u001b[0;34m\u001b[0m\u001b[0m\n\u001b[0m\u001b[1;32m     25\u001b[0m \u001b[0mH\u001b[0m \u001b[0;34m|\u001b[0m \u001b[0mqureg\u001b[0m\u001b[0;34m[\u001b[0m\u001b[0;36m1\u001b[0m\u001b[0;34m]\u001b[0m\u001b[0;34m\u001b[0m\u001b[0m\n\u001b[1;32m     26\u001b[0m \u001b[0mprint_wavefunction\u001b[0m\u001b[0;34m(\u001b[0m\u001b[0mqureg\u001b[0m\u001b[0;34m,\u001b[0m \u001b[0mnqubits\u001b[0m\u001b[0;34m,\u001b[0m \u001b[0mmask\u001b[0m\u001b[0;34m)\u001b[0m\u001b[0;34m\u001b[0m\u001b[0m\n",
      "\u001b[0;31mNameError\u001b[0m: name 'C' is not defined"
     ]
    }
   ],
   "source": []
  },
  {
   "cell_type": "code",
   "execution_count": 13,
   "metadata": {
    "collapsed": false
   },
   "outputs": [
    {
     "name": "stdout",
     "output_type": "stream",
     "text": [
      "1.0 [3^ 1]\n",
      "1.0 [3^ 1]\n"
     ]
    }
   ],
   "source": [
    "from openfermion.ops import FermionOperator\n",
    "\n",
    "my_term = FermionOperator(((3, 1), (1, 0)))\n",
    "print(my_term)\n",
    "\n",
    "my_term = FermionOperator('3^ 1')\n",
    "print(my_term)\n"
   ]
  },
  {
   "cell_type": "code",
   "execution_count": null,
   "metadata": {
    "collapsed": true
   },
   "outputs": [],
   "source": []
  }
 ],
 "metadata": {
  "kernelspec": {
   "display_name": "Python [conda root]",
   "language": "python",
   "name": "conda-root-py"
  },
  "language_info": {
   "codemirror_mode": {
    "name": "ipython",
    "version": 3
   },
   "file_extension": ".py",
   "mimetype": "text/x-python",
   "name": "python",
   "nbconvert_exporter": "python",
   "pygments_lexer": "ipython3",
   "version": "3.5.2"
  }
 },
 "nbformat": 4,
 "nbformat_minor": 2
}
